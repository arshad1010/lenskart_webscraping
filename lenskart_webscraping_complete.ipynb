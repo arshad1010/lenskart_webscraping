{
 "cells": [
  {
   "cell_type": "markdown",
   "id": "e14955e0",
   "metadata": {},
   "source": [
    "# Importing Libraries"
   ]
  },
  {
   "cell_type": "code",
   "execution_count": 148,
   "id": "ab3727b8",
   "metadata": {},
   "outputs": [],
   "source": [
    "import requests, json, re, time\n",
    "import pandas as pd\n",
    "from bs4 import BeautifulSoup"
   ]
  },
  {
   "cell_type": "markdown",
   "id": "2ee5a861",
   "metadata": {},
   "source": [
    "# Fetching Products"
   ]
  },
  {
   "cell_type": "code",
   "execution_count": 2,
   "id": "3d3b8471",
   "metadata": {},
   "outputs": [],
   "source": [
    "# api_ports = ['3361', '3362', '3363', '8427', '8415', '8422', '4025']\n",
    "\n",
    "# products_details = []\n",
    "# for each_api in api_ports:\n",
    "#     url = 'https://api-gateway.juno.lenskart.com/v2/products/category/'+ each_api +'?page-size=1&page=0'\n",
    "#     data = json.loads(requests.get(url).content)\n",
    "#     num_of_products = int(data['result']['num_of_products'])\n",
    "\n",
    "#     item_url = 'https://api-gateway.juno.lenskart.com/v2/products/category/'+ each_api +'?page-size='\n",
    "#     page, no_of_items = 0, 1000\n",
    "    \n",
    "#     while num_of_products > 0:\n",
    "#         if num_of_products < 1000:\n",
    "#             no_of_items = num_of_products\n",
    "#         products_response = json.loads(requests.get(item_url+str(no_of_items)+'&page='+str(page)).content)\n",
    "#         products_data = products_response['result']['product_list']\n",
    "\n",
    "#         for each_product in products_data:\n",
    "#             products_details.append(each_product)\n",
    "#         page += 1\n",
    "#         num_of_products -= 1000"
   ]
  },
  {
   "cell_type": "code",
   "execution_count": 4,
   "id": "89df4ed4",
   "metadata": {},
   "outputs": [],
   "source": [
    "# pd.DataFrame(products_details).to_csv('Product_Details.csv')\n",
    "# product_dataframe = pd.read_csv('Product_Details.csv', index_col=0)"
   ]
  },
  {
   "cell_type": "code",
   "execution_count": 5,
   "id": "e4b957f6",
   "metadata": {},
   "outputs": [],
   "source": [
    "# product_dataframe.drop_duplicates(inplace = True)"
   ]
  },
  {
   "cell_type": "code",
   "execution_count": 6,
   "id": "e952be06",
   "metadata": {},
   "outputs": [],
   "source": [
    "# def splitting_price(price):\n",
    "#     price = re.sub(\"\\'\", \"\\\"\", price)\n",
    "#     price = json.loads(price)\n",
    "#     return price[0]['price'], price[1]['price']"
   ]
  },
  {
   "cell_type": "code",
   "execution_count": 7,
   "id": "2d46368b",
   "metadata": {},
   "outputs": [],
   "source": [
    "# product_dataframe[['market_price', 'lenskart_price']] = product_dataframe['prices'].apply(splitting_price).apply(pd.Series)"
   ]
  },
  {
   "cell_type": "code",
   "execution_count": 8,
   "id": "4e14dc5d",
   "metadata": {},
   "outputs": [],
   "source": [
    "# def splitting_hastag(hastag):\n",
    "#     result = [''] * 4\n",
    "#     hastag = re.sub(\"\\'\", \"\\\"\", hastag)\n",
    "#     hastag = json.loads(hastag)\n",
    "    \n",
    "#     try:\n",
    "#         result[0] = hastag[0]['name']\n",
    "#     except:\n",
    "#         pass\n",
    "#     try:\n",
    "#         result[1] = hastag[1]['name']\n",
    "#     except:\n",
    "#         pass\n",
    "#     try:\n",
    "#         result[2] = hastag[2]['name']\n",
    "#     except:\n",
    "#         pass\n",
    "#     try:\n",
    "#         result[3] = hastag[3]['name']\n",
    "#     except:\n",
    "#         pass\n",
    "    \n",
    "#     return result"
   ]
  },
  {
   "cell_type": "code",
   "execution_count": 9,
   "id": "d5d4566d",
   "metadata": {},
   "outputs": [],
   "source": [
    "# product_dataframe[['frame_size_id', 'frame_shape_id', 'brandname_id', 'frametype_id']] = product_dataframe['hashtagList'].apply(splitting_hastag).apply(pd.Series)"
   ]
  },
  {
   "cell_type": "code",
   "execution_count": 10,
   "id": "1880d1fe",
   "metadata": {},
   "outputs": [],
   "source": [
    "# product_dataframe.drop(['image_url', 'image_url_suffix', 'imageUrls', 'brand_name_en', 'brand_logo', 'color_options', 'totalColorAvailable', \n",
    "#                         'cmsLinkAndroid', 'cmsLinkIos', 'arModelAndroidUrl', 'arModelIOSUrl', 'arModelMsiteAndDesktopUrl', 'arModelOriginalUrl', \n",
    "#                         'relatedItems', 'prescriptionType', 'inclusiveText', 'tryOnImageUrl', 'offer_image', 'isCashbackApplicable', 'isCombo', \n",
    "#                         'specifications', 'clUsage', 'prices', 'hashtagList'], axis=1, inplace = True)"
   ]
  },
  {
   "cell_type": "code",
   "execution_count": 11,
   "id": "883c2954",
   "metadata": {},
   "outputs": [],
   "source": [
    "# product_dataframe['totalNoOfRatings'] = product_dataframe['totalNoOfRatings'].apply(lambda x: int(x) if x > 0 else 0)"
   ]
  },
  {
   "cell_type": "code",
   "execution_count": 12,
   "id": "e919d53a",
   "metadata": {},
   "outputs": [],
   "source": [
    "# product_dataframe.to_csv('Cleaned_Product_Details.csv')\n",
    "# product_dataframe = pd.read_csv('Cleaned_Product_Details.csv', index_col=0)"
   ]
  },
  {
   "cell_type": "markdown",
   "id": "afd7087e",
   "metadata": {},
   "source": [
    "# Fetching Reviews"
   ]
  },
  {
   "cell_type": "code",
   "execution_count": 13,
   "id": "879cdc90",
   "metadata": {},
   "outputs": [],
   "source": [
    "# review_details = []\n",
    "# for each_product in product_dataframe.values:\n",
    "#     try:\n",
    "#         no_of_ratings = each_product[13]\n",
    "#     except:\n",
    "#         no_of_ratings = 0\n",
    "        \n",
    "#     page, no_of_items = 1, 1000\n",
    "#     while no_of_ratings > 0:\n",
    "#         if no_of_ratings < 1000:\n",
    "#             no_of_items = no_of_ratings\n",
    "    \n",
    "#         review_url = 'https://api-gateway.juno.lenskart.com/v2/products/product/'+str(each_product[0])+'/review?count='+str(no_of_items)+'&page='+str(page)\n",
    "#         review_data = json.loads(requests.get(review_url).content)\n",
    "#         reviews = review_data['result']['review']['reviews']\n",
    "        \n",
    "#         for each_item in review_data['result']['review']['reviews']:\n",
    "#             final_review_data = {}\n",
    "#             final_review_data = {'user_id': each_product[0]}\n",
    "#             for key, value in each_item.items():\n",
    "#                 final_review_data[key] = value\n",
    "#             review_details.append(final_review_data)\n",
    "    \n",
    "#         page += 1\n",
    "#         no_of_ratings -= 1000"
   ]
  },
  {
   "cell_type": "code",
   "execution_count": 14,
   "id": "ce5ecfd8",
   "metadata": {},
   "outputs": [],
   "source": [
    "# pd.DataFrame(review_details).to_csv('Review_Details.csv')\n",
    "# review_dataframe = pd.read_csv('Review_Details.csv', index_col=0)"
   ]
  },
  {
   "cell_type": "code",
   "execution_count": 15,
   "id": "a5b1d7e3",
   "metadata": {},
   "outputs": [],
   "source": [
    "# review_dataframe.drop('images', axis=1, inplace=True)"
   ]
  },
  {
   "cell_type": "code",
   "execution_count": 16,
   "id": "339d108d",
   "metadata": {},
   "outputs": [],
   "source": [
    "# review_dataframe.to_csv('Cleaned_Review_Details.csv')\n",
    "# review_dataframe = pd.read_csv('Cleaned_Review_Details.csv', index_col=0)"
   ]
  },
  {
   "cell_type": "code",
   "execution_count": 7,
   "id": "d6a439e1",
   "metadata": {},
   "outputs": [],
   "source": [
    "# product_dataframe = pd.read_csv('Cleaned_Product_Details.csv', index_col=0)\n",
    "\n",
    "# for classification in product_dataframe['classification'].unique():\n",
    "#     product_dataframe[product_dataframe['classification'] == 'eyeframe'].to_csv(classification+'_data.csv', index=False)"
   ]
  },
  {
   "cell_type": "markdown",
   "id": "8f8db92a",
   "metadata": {},
   "source": [
    "## NEXTSTEP"
   ]
  },
  {
   "cell_type": "code",
   "execution_count": 54,
   "id": "448904bd",
   "metadata": {},
   "outputs": [],
   "source": [
    "# store_location_url = 'https://www.lenskart.com/'\n",
    "# location_data = requests.get(store_location_url+'stores')\n",
    "# location_soupdata = BeautifulSoup(location_data.content)\n",
    "# location_links = [link['href'] for link in location_soupdata.find(id='storeListingBase').find_all('a')]\n",
    "# location_names = [link.text for link in location_soupdata.find(id='storeListingBase').find_all('a')]"
   ]
  },
  {
   "cell_type": "code",
   "execution_count": 121,
   "id": "11ff5b39",
   "metadata": {},
   "outputs": [],
   "source": [
    "# headers = {\n",
    "#     'Xstoreaccesskey': 'pNRq8BGvIHk/G9AwlBxKG5lz97eYDaxnWO0YYs+VrMY='\n",
    "# }"
   ]
  },
  {
   "cell_type": "code",
   "execution_count": 59,
   "id": "2a2e9912",
   "metadata": {},
   "outputs": [],
   "source": [
    "# all_store_details = []\n",
    "# for each_location, each_link in zip(location_names, location_links):\n",
    "#     store_data = requests.get(store_location_url+each_link)\n",
    "#     store_soupdata = BeautifulSoup(store_data.content)\n",
    "#     no_of_stores = int(store_soupdata.find(class_='_state__header__7_5i7').text.split()[0])\n",
    "    \n",
    "#     payload = {'keyword': each_location, 'perPage': no_of_stores}\n",
    "#     store_data = requests.post('https://locator-stores.lenskart.com/api/v3/store/list', headers=headers, data=payload)\n",
    "#     store_details = json.loads(store_data.content)['data']['data']\n",
    "#     all_store_details.extend(store_details)"
   ]
  },
  {
   "cell_type": "code",
   "execution_count": 179,
   "id": "32ac4611",
   "metadata": {},
   "outputs": [],
   "source": [
    "# pd.DataFrame(all_store_details).to_csv('Store_Details.csv')"
   ]
  },
  {
   "cell_type": "code",
   "execution_count": 134,
   "id": "435a996f",
   "metadata": {},
   "outputs": [],
   "source": [
    "# store_details = pd.read_csv('Store_Details.csv', index_col=0)"
   ]
  },
  {
   "cell_type": "code",
   "execution_count": 175,
   "id": "a1b5c411",
   "metadata": {},
   "outputs": [],
   "source": [
    "# all_inventory_details = []\n",
    "# for store_id in store_details['lk_store_id'].values:\n",
    "#     payload = {'storeCode': store_id, 'perPage': 1}\n",
    "#     inventory_data = json.loads(requests.post('https://locator-stores.lenskart.com/api/v3/store/inventory', \n",
    "#                                               headers=headers, data=payload).content)\n",
    "#     if inventory_data['status'] == 200:\n",
    "#         no_of_products = inventory_data['data']['total']\n",
    "#         payload = {'storeCode': store_id, 'perPage': no_of_products}\n",
    "#         inventory_data = json.loads(requests.post('https://locator-stores.lenskart.com/api/v3/store/inventory', \n",
    "#                                                   headers=headers, data=payload).content)\n",
    "#         inventory_details = inventory_data['data']['data']\n",
    "#         all_inventory_details.extend(inventory_details)\n",
    "#     time.sleep(2.5)"
   ]
  },
  {
   "cell_type": "code",
   "execution_count": 178,
   "id": "3dd4ee3f",
   "metadata": {},
   "outputs": [],
   "source": [
    "# pd.DataFrame(all_inventory_details).to_csv('Inventory_Details.csv')"
   ]
  },
  {
   "cell_type": "code",
   "execution_count": 180,
   "id": "a3168981",
   "metadata": {},
   "outputs": [],
   "source": [
    "inventory_details = pd.read_csv('Inventory_Details.csv', index_col=0)"
   ]
  },
  {
   "cell_type": "code",
   "execution_count": 184,
   "id": "724f7c65",
   "metadata": {},
   "outputs": [
    {
     "data": {
      "text/html": [
       "<div>\n",
       "<style scoped>\n",
       "    .dataframe tbody tr th:only-of-type {\n",
       "        vertical-align: middle;\n",
       "    }\n",
       "\n",
       "    .dataframe tbody tr th {\n",
       "        vertical-align: top;\n",
       "    }\n",
       "\n",
       "    .dataframe thead th {\n",
       "        text-align: right;\n",
       "    }\n",
       "</style>\n",
       "<table border=\"1\" class=\"dataframe\">\n",
       "  <thead>\n",
       "    <tr style=\"text-align: right;\">\n",
       "      <th></th>\n",
       "      <th>store_code</th>\n",
       "      <th>product_id</th>\n",
       "      <th>quantity</th>\n",
       "      <th>price</th>\n",
       "      <th>product_name</th>\n",
       "      <th>brand</th>\n",
       "      <th>image_url</th>\n",
       "      <th>collection</th>\n",
       "      <th>product_url</th>\n",
       "      <th>gender</th>\n",
       "      <th>...</th>\n",
       "      <th>frame_size</th>\n",
       "      <th>frame_shape</th>\n",
       "      <th>frame_color</th>\n",
       "      <th>classification_name</th>\n",
       "      <th>stock_in_date</th>\n",
       "      <th>rr_30_days</th>\n",
       "      <th>rr_7_days</th>\n",
       "      <th>coco_qty</th>\n",
       "      <th>fofo_qty</th>\n",
       "      <th>keywords</th>\n",
       "    </tr>\n",
       "  </thead>\n",
       "  <tbody>\n",
       "    <tr>\n",
       "      <th>0</th>\n",
       "      <td>ST379</td>\n",
       "      <td>207481</td>\n",
       "      <td>2</td>\n",
       "      <td>3000</td>\n",
       "      <td>Peyush Bansal Shark Tank Blue Sky Full Rim Way...</td>\n",
       "      <td>Lenskart Hustlr</td>\n",
       "      <td>https://static5.lenskart.com/media/catalog/pro...</td>\n",
       "      <td>Air Essentials</td>\n",
       "      <td>http://www.lenskart.com/lenskart-hustlr-la-e15...</td>\n",
       "      <td>Unisex</td>\n",
       "      <td>...</td>\n",
       "      <td>Medium</td>\n",
       "      <td>Wayfarer</td>\n",
       "      <td>Blue Sky</td>\n",
       "      <td>eyeframe</td>\n",
       "      <td>0000-00-00</td>\n",
       "      <td>0.43333</td>\n",
       "      <td>0.28571</td>\n",
       "      <td>0</td>\n",
       "      <td>0</td>\n",
       "      <td>[\"Lenskart Hustlr\",\"Air Essentials\",\"Unisex\",\"...</td>\n",
       "    </tr>\n",
       "    <tr>\n",
       "      <th>1</th>\n",
       "      <td>ST379</td>\n",
       "      <td>137975</td>\n",
       "      <td>1</td>\n",
       "      <td>1700</td>\n",
       "      <td>Sky Blue Full Rim Square Lenskart Air fusion L...</td>\n",
       "      <td>Lenskart Air</td>\n",
       "      <td>https://static5.lenskart.com/media/catalog/pro...</td>\n",
       "      <td>Air Fusion</td>\n",
       "      <td>http://www.lenskart.com/lenskart-air-la-e13033...</td>\n",
       "      <td>Unisex</td>\n",
       "      <td>...</td>\n",
       "      <td>Medium</td>\n",
       "      <td>Square</td>\n",
       "      <td>Blue</td>\n",
       "      <td>eyeframe</td>\n",
       "      <td>2020-07-23</td>\n",
       "      <td>0.36667</td>\n",
       "      <td>0.28571</td>\n",
       "      <td>964</td>\n",
       "      <td>0</td>\n",
       "      <td>[\"Lenskart Air\",\"Air Fusion\",\"Unisex\",\"Ultem\",...</td>\n",
       "    </tr>\n",
       "    <tr>\n",
       "      <th>2</th>\n",
       "      <td>ST379</td>\n",
       "      <td>146624</td>\n",
       "      <td>1</td>\n",
       "      <td>1700</td>\n",
       "      <td>Matte Gunmetal Black Full Rim Geometric Vincen...</td>\n",
       "      <td>Vincent Chase</td>\n",
       "      <td>https://static5.lenskart.com/media/catalog/pro...</td>\n",
       "      <td>SLEEK STEEL</td>\n",
       "      <td>http://www.lenskart.com/vincent-chase-vc-e1378...</td>\n",
       "      <td>Unisex</td>\n",
       "      <td>...</td>\n",
       "      <td>Narrow</td>\n",
       "      <td>Geometric</td>\n",
       "      <td>Matte Gunmetal</td>\n",
       "      <td>eyeframe</td>\n",
       "      <td>2021-02-27</td>\n",
       "      <td>0.33333</td>\n",
       "      <td>0.57143</td>\n",
       "      <td>0</td>\n",
       "      <td>0</td>\n",
       "      <td>[\"Vincent Chase\",\"SLEEK STEEL\",\"Unisex\",\"Stain...</td>\n",
       "    </tr>\n",
       "    <tr>\n",
       "      <th>3</th>\n",
       "      <td>ST379</td>\n",
       "      <td>146850</td>\n",
       "      <td>2</td>\n",
       "      <td>1700</td>\n",
       "      <td>Transparent Gold Full Rim Round Lenskart Air f...</td>\n",
       "      <td>Lenskart Air</td>\n",
       "      <td>https://static5.lenskart.com/media/catalog/pro...</td>\n",
       "      <td>Air Fusion</td>\n",
       "      <td>http://www.lenskart.com/lenskar-air-la-e12709-...</td>\n",
       "      <td>Unisex</td>\n",
       "      <td>...</td>\n",
       "      <td>Wide</td>\n",
       "      <td>Round</td>\n",
       "      <td>Transparent</td>\n",
       "      <td>eyeframe</td>\n",
       "      <td>2021-05-26</td>\n",
       "      <td>0.33333</td>\n",
       "      <td>0.42857</td>\n",
       "      <td>1363</td>\n",
       "      <td>0</td>\n",
       "      <td>[\"Lenskart Air\",\"Air Fusion\",\"Unisex\",\"TR90\",\"...</td>\n",
       "    </tr>\n",
       "    <tr>\n",
       "      <th>4</th>\n",
       "      <td>ST379</td>\n",
       "      <td>149190</td>\n",
       "      <td>1</td>\n",
       "      <td>1700</td>\n",
       "      <td>Transparent Blue Full Rim Rectangle Vincent Ch...</td>\n",
       "      <td>Vincent Chase</td>\n",
       "      <td>https://static5.lenskart.com/media/catalog/pro...</td>\n",
       "      <td>Classic Acetate</td>\n",
       "      <td>http://www.lenskart.com/vincent-chase-vc-e1050...</td>\n",
       "      <td>Unisex</td>\n",
       "      <td>...</td>\n",
       "      <td>Narrow</td>\n",
       "      <td>Rectangle</td>\n",
       "      <td>NaN</td>\n",
       "      <td>eyeframe</td>\n",
       "      <td>2021-10-12</td>\n",
       "      <td>0.33333</td>\n",
       "      <td>0.28571</td>\n",
       "      <td>948</td>\n",
       "      <td>0</td>\n",
       "      <td>[\"Vincent Chase\",\"Classic Acetate\",\"Unisex\",\"C...</td>\n",
       "    </tr>\n",
       "  </tbody>\n",
       "</table>\n",
       "<p>5 rows × 22 columns</p>\n",
       "</div>"
      ],
      "text/plain": [
       "  store_code  product_id  quantity  price  \\\n",
       "0      ST379      207481         2   3000   \n",
       "1      ST379      137975         1   1700   \n",
       "2      ST379      146624         1   1700   \n",
       "3      ST379      146850         2   1700   \n",
       "4      ST379      149190         1   1700   \n",
       "\n",
       "                                        product_name            brand  \\\n",
       "0  Peyush Bansal Shark Tank Blue Sky Full Rim Way...  Lenskart Hustlr   \n",
       "1  Sky Blue Full Rim Square Lenskart Air fusion L...     Lenskart Air   \n",
       "2  Matte Gunmetal Black Full Rim Geometric Vincen...    Vincent Chase   \n",
       "3  Transparent Gold Full Rim Round Lenskart Air f...     Lenskart Air   \n",
       "4  Transparent Blue Full Rim Rectangle Vincent Ch...    Vincent Chase   \n",
       "\n",
       "                                           image_url       collection  \\\n",
       "0  https://static5.lenskart.com/media/catalog/pro...   Air Essentials   \n",
       "1  https://static5.lenskart.com/media/catalog/pro...       Air Fusion   \n",
       "2  https://static5.lenskart.com/media/catalog/pro...      SLEEK STEEL   \n",
       "3  https://static5.lenskart.com/media/catalog/pro...       Air Fusion   \n",
       "4  https://static5.lenskart.com/media/catalog/pro...  Classic Acetate   \n",
       "\n",
       "                                         product_url  gender  ... frame_size  \\\n",
       "0  http://www.lenskart.com/lenskart-hustlr-la-e15...  Unisex  ...     Medium   \n",
       "1  http://www.lenskart.com/lenskart-air-la-e13033...  Unisex  ...     Medium   \n",
       "2  http://www.lenskart.com/vincent-chase-vc-e1378...  Unisex  ...     Narrow   \n",
       "3  http://www.lenskart.com/lenskar-air-la-e12709-...  Unisex  ...       Wide   \n",
       "4  http://www.lenskart.com/vincent-chase-vc-e1050...  Unisex  ...     Narrow   \n",
       "\n",
       "  frame_shape     frame_color classification_name stock_in_date rr_30_days  \\\n",
       "0    Wayfarer        Blue Sky            eyeframe    0000-00-00    0.43333   \n",
       "1      Square            Blue            eyeframe    2020-07-23    0.36667   \n",
       "2   Geometric  Matte Gunmetal            eyeframe    2021-02-27    0.33333   \n",
       "3       Round     Transparent            eyeframe    2021-05-26    0.33333   \n",
       "4   Rectangle             NaN            eyeframe    2021-10-12    0.33333   \n",
       "\n",
       "  rr_7_days  coco_qty  fofo_qty  \\\n",
       "0   0.28571         0         0   \n",
       "1   0.28571       964         0   \n",
       "2   0.57143         0         0   \n",
       "3   0.42857      1363         0   \n",
       "4   0.28571       948         0   \n",
       "\n",
       "                                            keywords  \n",
       "0  [\"Lenskart Hustlr\",\"Air Essentials\",\"Unisex\",\"...  \n",
       "1  [\"Lenskart Air\",\"Air Fusion\",\"Unisex\",\"Ultem\",...  \n",
       "2  [\"Vincent Chase\",\"SLEEK STEEL\",\"Unisex\",\"Stain...  \n",
       "3  [\"Lenskart Air\",\"Air Fusion\",\"Unisex\",\"TR90\",\"...  \n",
       "4  [\"Vincent Chase\",\"Classic Acetate\",\"Unisex\",\"C...  \n",
       "\n",
       "[5 rows x 22 columns]"
      ]
     },
     "execution_count": 184,
     "metadata": {},
     "output_type": "execute_result"
    }
   ],
   "source": [
    "inventory_details.head()"
   ]
  },
  {
   "cell_type": "code",
   "execution_count": null,
   "id": "644cf12a",
   "metadata": {},
   "outputs": [],
   "source": []
  }
 ],
 "metadata": {
  "kernelspec": {
   "display_name": "Python 3 (ipykernel)",
   "language": "python",
   "name": "python3"
  },
  "language_info": {
   "codemirror_mode": {
    "name": "ipython",
    "version": 3
   },
   "file_extension": ".py",
   "mimetype": "text/x-python",
   "name": "python",
   "nbconvert_exporter": "python",
   "pygments_lexer": "ipython3",
   "version": "3.11.5"
  }
 },
 "nbformat": 4,
 "nbformat_minor": 5
}
